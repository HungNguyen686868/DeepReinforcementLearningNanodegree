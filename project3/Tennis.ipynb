{
 "cells": [
  {
   "cell_type": "markdown",
   "metadata": {},
   "source": [
    "# Collaboration and Competition\n",
    "\n",
    "---\n",
    "\n",
    "You are welcome to use this coding environment to train your agent for the project.  Follow the instructions below to get started!\n",
    "\n",
    "### 1. Start the Environment\n",
    "\n",
    "Run the next code cell to install a few packages.  This line will take a few minutes to run!"
   ]
  },
  {
   "cell_type": "code",
   "execution_count": 1,
   "metadata": {},
   "outputs": [
    {
     "name": "stdout",
     "output_type": "stream",
     "text": [
      "\u001b[31mtensorflow 1.7.1 has requirement numpy>=1.13.3, but you'll have numpy 1.12.1 which is incompatible.\u001b[0m\r\n",
      "\u001b[31mipython 6.5.0 has requirement prompt-toolkit<2.0.0,>=1.0.15, but you'll have prompt-toolkit 3.0.30 which is incompatible.\u001b[0m\r\n",
      "\u001b[31mjupyter-console 6.4.3 has requirement jupyter-client>=7.0.0, but you'll have jupyter-client 5.2.4 which is incompatible.\u001b[0m\r\n"
     ]
    }
   ],
   "source": [
    "!pip -q install ./python"
   ]
  },
  {
   "cell_type": "markdown",
   "metadata": {},
   "source": [
    "The environment is already saved in the Workspace and can be accessed at the file path provided below. "
   ]
  },
  {
   "cell_type": "code",
   "execution_count": 2,
   "metadata": {},
   "outputs": [
    {
     "name": "stderr",
     "output_type": "stream",
     "text": [
      "INFO:unityagents:\n",
      "'Academy' started successfully!\n",
      "Unity Academy name: Academy\n",
      "        Number of Brains: 1\n",
      "        Number of External Brains : 1\n",
      "        Lesson number : 0\n",
      "        Reset Parameters :\n",
      "\t\t\n",
      "Unity brain name: TennisBrain\n",
      "        Number of Visual Observations (per agent): 0\n",
      "        Vector Observation space type: continuous\n",
      "        Vector Observation space size (per agent): 8\n",
      "        Number of stacked Vector Observation: 3\n",
      "        Vector Action space type: continuous\n",
      "        Vector Action space size (per agent): 2\n",
      "        Vector Action descriptions: , \n"
     ]
    }
   ],
   "source": [
    "from unityagents import UnityEnvironment\n",
    "import numpy as np\n",
    "\n",
    "env = UnityEnvironment(file_name=\"/data/Tennis_Linux_NoVis/Tennis\")"
   ]
  },
  {
   "cell_type": "markdown",
   "metadata": {},
   "source": [
    "Environments contain **_brains_** which are responsible for deciding the actions of their associated agents. Here we check for the first brain available, and set it as the default brain we will be controlling from Python."
   ]
  },
  {
   "cell_type": "code",
   "execution_count": 3,
   "metadata": {},
   "outputs": [],
   "source": [
    "# get the default brain\n",
    "brain_name = env.brain_names[0]\n",
    "brain = env.brains[brain_name]"
   ]
  },
  {
   "cell_type": "markdown",
   "metadata": {},
   "source": [
    "### 2. Examine the State and Action Spaces\n",
    "\n",
    "Run the code cell below to print some information about the environment."
   ]
  },
  {
   "cell_type": "code",
   "execution_count": 4,
   "metadata": {},
   "outputs": [
    {
     "name": "stdout",
     "output_type": "stream",
     "text": [
      "Number of agents: 2\n",
      "Size of each action: 2\n",
      "There are 2 agents. Each observes a state with length: 24\n",
      "The state for the first agent looks like: [ 0.          0.          0.          0.          0.          0.          0.\n",
      "  0.          0.          0.          0.          0.          0.          0.\n",
      "  0.          0.         -6.65278625 -1.5        -0.          0.\n",
      "  6.83172083  6.         -0.          0.        ]\n"
     ]
    }
   ],
   "source": [
    "# reset the environment\n",
    "env_info = env.reset(train_mode=True)[brain_name]\n",
    "\n",
    "# number of agents \n",
    "num_agents = len(env_info.agents)\n",
    "print('Number of agents:', num_agents)\n",
    "\n",
    "# size of each action\n",
    "action_size = brain.vector_action_space_size\n",
    "print('Size of each action:', action_size)\n",
    "\n",
    "# examine the state space \n",
    "states = env_info.vector_observations\n",
    "state_size = states.shape[1]\n",
    "print('There are {} agents. Each observes a state with length: {}'.format(states.shape[0], state_size))\n",
    "print('The state for the first agent looks like:', states[0])"
   ]
  },
  {
   "cell_type": "markdown",
   "metadata": {},
   "source": [
    "### 3. Take Random Actions in the Environment\n",
    "\n",
    "In the next code cell, you will learn how to use the Python API to control the agent and receive feedback from the environment.\n",
    "\n",
    "Note that **in this coding environment, you will not be able to watch the agents while they are training**, and you should set `train_mode=True` to restart the environment."
   ]
  },
  {
   "cell_type": "code",
   "execution_count": 5,
   "metadata": {},
   "outputs": [
    {
     "name": "stdout",
     "output_type": "stream",
     "text": [
      "Total score (averaged over agents) this episode: -0.004999999888241291\n",
      "Total score (averaged over agents) this episode: -0.004999999888241291\n",
      "Total score (averaged over agents) this episode: -0.004999999888241291\n",
      "Total score (averaged over agents) this episode: -0.004999999888241291\n",
      "Total score (averaged over agents) this episode: -0.004999999888241291\n"
     ]
    }
   ],
   "source": [
    "for i in range(5):                                         # play game for 5 episodes\n",
    "    env_info = env.reset(train_mode=False)[brain_name]     # reset the environment    \n",
    "    states = env_info.vector_observations                  # get the current state (for each agent)\n",
    "    scores = np.zeros(num_agents)                          # initialize the score (for each agent)\n",
    "    while True:\n",
    "        actions = np.random.randn(num_agents, action_size) # select an action (for each agent)\n",
    "        actions = np.clip(actions, -1, 1)                  # all actions between -1 and 1\n",
    "        env_info = env.step(actions)[brain_name]           # send all actions to tne environment\n",
    "        next_states = env_info.vector_observations         # get next state (for each agent)\n",
    "        rewards = env_info.rewards                         # get reward (for each agent)\n",
    "        dones = env_info.local_done                        # see if episode finished\n",
    "        scores += env_info.rewards                         # update the score (for each agent)\n",
    "        states = next_states                               # roll over states to next time step\n",
    "        if np.any(dones):                                  # exit loop if episode finished\n",
    "            break\n",
    "    print('Total score (averaged over agents) this episode: {}'.format(np.mean(scores)))"
   ]
  },
  {
   "cell_type": "code",
   "execution_count": 6,
   "metadata": {},
   "outputs": [
    {
     "data": {
      "text/plain": [
       "(2, 24)"
      ]
     },
     "execution_count": 6,
     "metadata": {},
     "output_type": "execute_result"
    }
   ],
   "source": [
    "np.shape(next_states)"
   ]
  },
  {
   "cell_type": "code",
   "execution_count": 7,
   "metadata": {},
   "outputs": [
    {
     "data": {
      "text/plain": [
       "(2, 2)"
      ]
     },
     "execution_count": 7,
     "metadata": {},
     "output_type": "execute_result"
    }
   ],
   "source": [
    "np.shape(actions)"
   ]
  },
  {
   "cell_type": "code",
   "execution_count": 8,
   "metadata": {},
   "outputs": [
    {
     "data": {
      "text/plain": [
       "[0.0, -0.009999999776482582]"
      ]
     },
     "execution_count": 8,
     "metadata": {},
     "output_type": "execute_result"
    }
   ],
   "source": [
    "rewards"
   ]
  },
  {
   "cell_type": "code",
   "execution_count": 9,
   "metadata": {},
   "outputs": [
    {
     "data": {
      "text/plain": [
       "[True, True]"
      ]
     },
     "execution_count": 9,
     "metadata": {},
     "output_type": "execute_result"
    }
   ],
   "source": [
    "dones"
   ]
  },
  {
   "cell_type": "markdown",
   "metadata": {},
   "source": [
    "When finished, you can close the environment."
   ]
  },
  {
   "cell_type": "code",
   "execution_count": 10,
   "metadata": {},
   "outputs": [],
   "source": [
    "# env.close()"
   ]
  },
  {
   "cell_type": "markdown",
   "metadata": {},
   "source": [
    "### 4. It's Your Turn!\n",
    "\n",
    "Now it's your turn to train your own agent to solve the environment!  A few **important notes**:\n",
    "- When training the environment, set `train_mode=True`, so that the line for resetting the environment looks like the following:\n",
    "```python\n",
    "env_info = env.reset(train_mode=True)[brain_name]\n",
    "```\n",
    "- To structure your work, you're welcome to work directly in this Jupyter notebook, or you might like to start over with a new file!  You can see the list of files in the workspace by clicking on **_Jupyter_** in the top left corner of the notebook.\n",
    "- In this coding environment, you will not be able to watch the agents while they are training.  However, **_after training the agents_**, you can download the saved model weights to watch the agents on your own machine! "
   ]
  },
  {
   "cell_type": "code",
   "execution_count": 11,
   "metadata": {},
   "outputs": [],
   "source": [
    "from unityagents import UnityEnvironment\n",
    "import numpy as np\n",
    "import torch\n",
    "import torch.nn as nn\n",
    "import torch.nn.functional as F\n",
    "import torch.optim as optim\n",
    "import random\n",
    "from collections import deque, namedtuple\n",
    "import matplotlib.pyplot as plt\n",
    "import copy"
   ]
  },
  {
   "cell_type": "code",
   "execution_count": 12,
   "metadata": {},
   "outputs": [],
   "source": [
    "device = torch.device(\"cuda:0\" if torch.cuda.is_available() else \"cpu\")\n",
    "\n",
    "def hidden_init(layer):\n",
    "    fan_in = layer.weight.data.size()[0]\n",
    "    lim = 1. / np.sqrt(fan_in)\n",
    "    return (-lim, lim)\n",
    "\n",
    "\n",
    "class ActorNetwork(nn.Module):\n",
    "    \"\"\"Actor Model.\"\"\"\n",
    "\n",
    "    def __init__(self, state_size, action_size, seed, fc1_dims = 256, fc2_dims = 128):\n",
    "        \"\"\"Initialize parameters and build model.\n",
    "        Params\n",
    "        ======\n",
    "            state_size (int): Dimension of each state\n",
    "            action_size (int): Dimension of each action\n",
    "            seed (int): Random seed\n",
    "            fc1_dims (int): Number of nodes in first hidden layer\n",
    "            fc2_dims (int): Number of nodes in second hidden layer\n",
    "\n",
    "        \"\"\"\n",
    "        super(ActorNetwork, self).__init__()\n",
    "        self.seed = torch.manual_seed(seed)\n",
    "        self.fc1 = nn.Linear(state_size, fc1_dims)\n",
    "        self.fc2 = nn.Linear(fc1_dims, fc2_dims)\n",
    "        self.bn1 = nn.BatchNorm1d(fc1_dims)\n",
    "        self.bn2 = nn.BatchNorm1d(fc2_dims)\n",
    "        self.fc3 = nn.Linear(fc2_dims, action_size)        \n",
    "         \n",
    "        self.device = torch.device(\"cuda:0\" if torch.cuda.is_available() else \"cpu\")\n",
    "        self.to(self.device)\n",
    "        self.reset_parameters()\n",
    "\n",
    "    def reset_parameters(self):\n",
    "        self.fc1.weight.data.uniform_(*hidden_init(self.fc1))\n",
    "        self.fc2.weight.data.uniform_(*hidden_init(self.fc2))\n",
    "        self.fc3.weight.data.uniform_(-3e-3, 3e-3)\n",
    "\n",
    "\n",
    "    def forward(self, state):\n",
    "        \"\"\"Build a network that maps state -> action values.\"\"\"\n",
    "        \n",
    "        if state.dim() == 1:\n",
    "            state = torch.unsqueeze(state, 0)\n",
    "            \n",
    "        x =  F.relu(self.fc1(state))\n",
    "        x =  self.bn1(x)\n",
    "        \n",
    "        x =  F.elu(self.fc2(x))\n",
    "        x =  self.bn2(x)\n",
    "        return F.tanh(self.fc3(x))\n",
    "    \n",
    "    \n",
    "    \n",
    "class CriticNetwork(nn.Module):\n",
    "    \"\"\"Build a critic (value) network that maps (state, action) pairs -> Q-values.\"\"\"\n",
    "\n",
    "    def __init__(self, state_size, action_size, seed, fc1_dims = 256, fc2_dims = 128):\n",
    "        \"\"\"Initialize parameters and build model.\n",
    "        Params\n",
    "        ======\n",
    "            state_size (int): Dimension of each state\n",
    "            action_size (int): Dimension of each action\n",
    "            seed (int): Random seed\n",
    "            fc1_dims (int): Number of nodes in first hidden layer\n",
    "            fc2_dims (int): Number of nodes in second hidden layer\n",
    "\n",
    "        \"\"\"\n",
    "        super(CriticNetwork, self).__init__()\n",
    "        self.seed = torch.manual_seed(seed)\n",
    "        self.fc1 = nn.Linear(state_size, fc1_dims)\n",
    "        self.bn1 = nn.BatchNorm1d(fc1_dims)\n",
    "        self.fc2 = nn.Linear(action_size + fc1_dims, 2*fc2_dims)\n",
    "        self.fc3  = nn.Linear(2*fc2_dims , fc2_dims)  \n",
    "        self.fc4 =  nn.Linear(fc2_dims , 1)\n",
    "              \n",
    "        self.device = torch.device(\"cuda:0\" if torch.cuda.is_available() else \"cpu\")\n",
    "        self.to(self.device)        \n",
    "        self.reset_parameters()\n",
    "\n",
    "    def reset_parameters(self):\n",
    "        self.fc1.weight.data.uniform_(*hidden_init(self.fc1))\n",
    "        self.fc2.weight.data.uniform_(*hidden_init(self.fc2))\n",
    "        self.fc3.weight.data.uniform_(-3e-3, 3e-3)\n",
    "        self.fc4.weight.data.uniform_(-3e-3, 3e-3)\n",
    "\n",
    "    def forward(self, state, action):\n",
    "        \"\"\"Build a network that maps state -> action values.\"\"\"\n",
    "        if state.dim() == 1:\n",
    "            state = torch.unsqueeze(state, 0)\n",
    "            \n",
    "        state_value = F.relu(self.fc1(state))\n",
    "        state_value = self.bn1(state_value)\n",
    "       \n",
    "        state_action_value = torch.cat((state_value, action), dim=1)\n",
    "        state_action_value = F.elu(self.fc2(state_action_value))\n",
    "        state_action_value = F.elu(self.fc3(state_action_value))\n",
    "        \n",
    "        return self.fc4(state_action_value)"
   ]
  },
  {
   "cell_type": "code",
   "execution_count": 13,
   "metadata": {},
   "outputs": [],
   "source": [
    "class ReplayBuffer:\n",
    "    \"\"\"Fixed-size buffer to store experience tuples.\"\"\"\n",
    "\n",
    "    def __init__(self, action_size, buffer_size, batch_size, seed):\n",
    "        \"\"\"Initialize a ReplayBuffer object.\n",
    "\n",
    "        Params\n",
    "        ======\n",
    "            action_size (int): dimension of each action\n",
    "            buffer_size (int): maximum size of buffer\n",
    "            batch_size (int): size of each training batch\n",
    "            seed (int): random seed\n",
    "        \"\"\"\n",
    "        self.action_size = action_size\n",
    "        self.memory = deque(maxlen=buffer_size)  \n",
    "        self.batch_size = batch_size\n",
    "        self.experience = namedtuple(\"Experience\", field_names=[\"state\", \"action\", \"reward\", \"next_state\", \"done\"])\n",
    "        self.seed = random.seed(seed)\n",
    "    \n",
    "    def add(self, state, action, reward, next_state, done):\n",
    "        \"\"\"Add a new experience to memory.\"\"\"\n",
    "        e = self.experience(state, action, reward, next_state, done)\n",
    "        self.memory.append(e)\n",
    "    \n",
    "    def sample(self):\n",
    "        \"\"\"Randomly sample a batch of experiences from memory.\"\"\"\n",
    "        experiences = random.sample(self.memory, k=self.batch_size)\n",
    "\n",
    "        states = np.vstack([e.state for e in experiences if e is not None])\n",
    "        actions = np.vstack([e.action for e in experiences if e is not None])\n",
    "        rewards = np.vstack([e.reward for e in experiences if e is not None])\n",
    "        next_states = np.vstack([e.next_state for e in experiences if e is not None])\n",
    "        dones = np.vstack([e.done for e in experiences if e is not None]).astype(np.uint8)\n",
    "  \n",
    "        return (states, actions, rewards, next_states, dones)\n",
    "\n",
    "    def __len__(self):\n",
    "        \"\"\"Return the current size of internal memory.\"\"\"\n",
    "        return len(self.memory)"
   ]
  },
  {
   "cell_type": "code",
   "execution_count": 14,
   "metadata": {},
   "outputs": [],
   "source": [
    "class Agent():\n",
    "    \"\"\"Interacts with and learns from the environment.\"\"\"\n",
    "    \n",
    "    def __init__(self, state_size, action_size, config, random_seed = 0):\n",
    "        \"\"\"Initialize an Agent object.\n",
    "        \n",
    "        Params\n",
    "        ======\n",
    "            state_size (int): dimension of each state\n",
    "            action_size (int): dimension of each action\n",
    "            random_seed (int): random seed\n",
    "        \"\"\"\n",
    "        \n",
    "        self.state_size = state_size\n",
    "        self.action_size = action_size\n",
    "        self.buffer_size = config[\"buffer_size\"]\n",
    "        self.batch_size  = config[\"batch_size\"]\n",
    "        self.tau = config[\"tau\"]\n",
    "        self.gamma = config[\"gamma\"]\n",
    "        self.lr_critic = config[\"lr_critic\"]\n",
    "        self.lr_actor = config[\"lr_actor\"]\n",
    "        self.update   =  config[\"update\"]\n",
    "        self.t_step = 0  \n",
    "        self.scale = config[\"scale\"]\n",
    "        self.scale_decay = config[\"scale_decay\"]\n",
    "        self.scale_end = config[\"scale_end\"]\n",
    "        \n",
    "        # Noise process\n",
    "        self.noise = OUNoise(action_size, random_seed)\n",
    "\n",
    "        # Replay memory\n",
    "        self.memory = ReplayBuffer(action_size, self.buffer_size,self.batch_size, random_seed)\n",
    "\n",
    "        # Actor Network (w/ Target Network)\n",
    "        self.actor_local  = ActorNetwork(state_size, action_size, random_seed)\n",
    "        self.actor_target = ActorNetwork(state_size, action_size, random_seed)\n",
    "        self.actor_optimizer = optim.Adam(self.actor_local.parameters(), lr = self.lr_actor)\n",
    "\n",
    "        # Critic Network (w/ Target Network)\n",
    "        self.critic_local_1 = CriticNetwork(state_size, action_size, random_seed)\n",
    "        self.critic_local_2 = CriticNetwork(state_size, action_size, random_seed)\n",
    "        \n",
    "        self.critic_target_1 = CriticNetwork(state_size, action_size, random_seed)\n",
    "        self.critic_target_2 = CriticNetwork(state_size, action_size, random_seed)\n",
    "        \n",
    "        self.critic_optimizer_1 = optim.Adam(self.critic_local_1.parameters(), lr = self.lr_critic)\n",
    "        self.critic_optimizer_2 = optim.Adam(self.critic_local_2.parameters(), lr = self.lr_critic)\n",
    "        \n",
    "    def step(self, state, action, reward, next_state, done):\n",
    "        \"\"\"Save experience in replay memory, and use random sample from buffer to learn.\"\"\"\n",
    "        # Save experience / reward\n",
    "        self.memory.add(state, action, reward, next_state, done)\n",
    "        \n",
    "        # Learn, if enough samples are available in memory        \n",
    "        self.t_step = (self.t_step + 1) % self.update\n",
    "        if self.t_step == 0:\n",
    "            # If enough samples are available in memory, get random subset and learn\n",
    "            for _ in range(16):\n",
    "                if len(self.memory) > self.batch_size:\n",
    "                    experiences = self.memory.sample()\n",
    "                    self.learn(experiences)\n",
    "\n",
    "    def choose_action(self, state, add_noise=True):\n",
    "        \"\"\"Returns actions for given state as per current policy.\"\"\"\n",
    "        state = torch.from_numpy(state).float().to(self.actor_local.device)\n",
    "        self.actor_local.eval()\n",
    "        with torch.no_grad():\n",
    "            action = self.actor_local(state).cpu().data.numpy()\n",
    "        self.actor_local.train()\n",
    "        if add_noise:\n",
    "            action += self.scale * self.noise.sample()\n",
    "        return np.clip(action, -1, 1)\n",
    "    \n",
    "    \n",
    "    \n",
    "    def learn(self, experiences):\n",
    "        \"\"\"Update policy and value parameters using given batch of experience tuples.\n",
    "        Q_targets = r + γ * critic_target(next_state, actor_target(next_state))\n",
    "        where:\n",
    "            actor_target(state) -> action\n",
    "            critic_target(state, action) -> Q-value\n",
    "        Params\n",
    "        ======\n",
    "            experiences (Tuple[torch.Tensor]): tuple of (s, a, r, s', done) tuples \n",
    "            gamma (float): discount factor\n",
    "        \"\"\"\n",
    "        states, actions, rewards, next_states, dones = experiences\n",
    "        \n",
    "        states  = torch.tensor(states, dtype = torch.float).to(self.actor_local.device)\n",
    "        rewards = torch.tensor(rewards,dtype = torch.float ).to(self.actor_local.device)\n",
    "        dones   = torch.tensor(dones,  dtype = torch.float).to(self.actor_local.device)\n",
    "        actions = torch.tensor(actions, dtype = torch.float).to(self.actor_local.device)\n",
    "        next_states = torch.tensor(next_states, dtype = torch.float).to(self.actor_local.device)\n",
    "\n",
    "        # ---------------------------- update critic ---------------------------- #\n",
    "        # Get predicted next-state actions and Q values from target models\n",
    "        \n",
    "        target_actions = self.actor_target.forward(next_states)\n",
    "        target_actions = target_actions + \\\n",
    "                        torch.clamp(torch.tensor(np.random.normal(scale=0.2)).to(device), -0.5, 0.5)\n",
    "\n",
    "        q1_ = self.critic_target_1.forward(next_states, target_actions)\n",
    "        q2_ = self.critic_target_2.forward(next_states, target_actions)\n",
    "\n",
    "\n",
    "        q1   = self.critic_local_1.forward(states, actions)\n",
    "        q2   = self.critic_local_2.forward(states, actions)\n",
    "        \n",
    "        critic_value_ = torch.min(q1_, q2_)\n",
    "\n",
    "        target = rewards + (self.gamma * critic_value_* (1-dones))       \n",
    "   \n",
    "\n",
    "        self.critic_optimizer_1.zero_grad()\n",
    "        self.critic_optimizer_2.zero_grad()\n",
    "\n",
    "        q1_loss  = F.mse_loss(target, q1)\n",
    "        q2_loss  = F.mse_loss(target, q2)\n",
    "        critic_loss = q1_loss + q2_loss\n",
    "\n",
    "        critic_loss.backward()\n",
    "        torch.nn.utils.clip_grad_norm_(self.critic_local_1.parameters(), 1.0)\n",
    "        torch.nn.utils.clip_grad_norm_(self.critic_local_2.parameters(), 1.0)\n",
    "        self.critic_optimizer_1.step()\n",
    "        self.critic_optimizer_2.step()\n",
    "\n",
    "        # ---------------------------- update actor ---------------------------- #\n",
    "        # Compute actor loss\n",
    "        self.actor_optimizer.zero_grad()\n",
    "        actions_pred = self.actor_local.forward(states)\n",
    "        actor_loss = - self.critic_local_1.forward(states, actions_pred)\n",
    "        actor_loss = torch.mean(actor_loss)\n",
    "        # Minimize the loss\n",
    "\n",
    "        actor_loss.backward()\n",
    "        torch.nn.utils.clip_grad_norm_(self.actor_local.parameters(), 1.0)\n",
    "        self.actor_optimizer.step()\n",
    "\n",
    "\n",
    "\n",
    "        # ----------------------- update target networks ----------------------- #\n",
    "        self.soft_update(self.critic_local_1, self.critic_target_1)\n",
    "        self.soft_update(self.critic_local_2, self.critic_target_2)\n",
    "        self.soft_update(self.actor_local, self.actor_target) \n",
    "        self.scale -= self.scale_decay\n",
    "        self.scale = max(self.scale, self.scale_end)\n",
    "        self.noise.reset()\n",
    "\n",
    "        \n",
    "    def reset(self):\n",
    "        self.noise.reset()\n",
    "    \n",
    "    def soft_update(self, local_model, target_model):\n",
    "        \"\"\"Soft update model parameters.\n",
    "        θ_target = τ*θ_local + (1 - τ)*θ_target\n",
    "        Params\n",
    "        ======\n",
    "            local_model: PyTorch model (weights will be copied from)\n",
    "            target_model: PyTorch model (weights will be copied to)\n",
    "            tau (float): interpolation parameter\n",
    "        \"\"\"\n",
    "        for target_param, local_param in zip(target_model.parameters(), local_model.parameters()):\n",
    "            target_param.data.copy_(self.tau*local_param.data + (1.0-self.tau)*target_param.data)\n",
    "\n",
    "class OUNoise:\n",
    "    \"\"\"Ornstein-Uhlenbeck process.\"\"\"\n",
    "\n",
    "    def __init__(self, size, seed, mu=0., theta=0.15, sigma=0.05):\n",
    "        \"\"\"Initialize parameters and noise process.\"\"\"\n",
    "        self.mu = mu * np.ones(size)\n",
    "        self.theta = theta\n",
    "        self.sigma = sigma\n",
    "        self.seed = random.seed(seed)\n",
    "        self.reset()\n",
    "\n",
    "    def reset(self):\n",
    "        \"\"\"Reset the internal state (= noise) to mean (mu).\"\"\"\n",
    "        self.state = copy.copy(self.mu)\n",
    "\n",
    "    def sample(self):\n",
    "        \"\"\"Update internal state and return it as a noise sample.\"\"\"\n",
    "        x = self.state\n",
    "        dx = self.theta * (self.mu - x) + self.sigma * (np.random.standard_normal(size=x.shape))\n",
    "        self.state = x + dx\n",
    "        return self.state"
   ]
  },
  {
   "cell_type": "code",
   "execution_count": 15,
   "metadata": {},
   "outputs": [],
   "source": [
    "def plot_learning_curve(x, scores, figure_file):\n",
    "     \n",
    "    running_avg = np.empty(len(scores))\n",
    "    \n",
    "    for t in range(len(scores)):\n",
    "        running_avg [t] = np.mean(scores[max(0, t-10):(t+1)])        \n",
    "        \n",
    "    plt.plot(x, running_avg)\n",
    "    plt.title(\"running avg of previous 10 scores\")\n",
    "    plt.savefig(figure_file)"
   ]
  },
  {
   "cell_type": "code",
   "execution_count": 16,
   "metadata": {},
   "outputs": [
    {
     "name": "stdout",
     "output_type": "stream",
     "text": [
      "Episode 20\tAverage Score: 0.01\t score_max: 0.10\n",
      "Episode 40\tAverage Score: 0.01\t score_max: 0.10\n",
      "Episode 60\tAverage Score: 0.00\t score_max: 0.10\n",
      "Episode 80\tAverage Score: 0.00\t score_max: 0.10\n",
      "Episode 100\tAverage Score: 0.00\t score_max: 0.10\n",
      "Episode 120\tAverage Score: 0.00\t score_max: 0.10\n",
      "Episode 140\tAverage Score: 0.00\t score_max: 0.10\n",
      "Episode 160\tAverage Score: 0.00\t score_max: 0.10\n",
      "Episode 180\tAverage Score: 0.00\t score_max: 0.10\n",
      "Episode 200\tAverage Score: 0.00\t score_max: 0.10\n",
      "Episode 220\tAverage Score: 0.00\t score_max: 0.10\n",
      "Episode 240\tAverage Score: 0.00\t score_max: 0.10\n",
      "Episode 260\tAverage Score: 0.00\t score_max: 0.10\n",
      "Episode 280\tAverage Score: 0.00\t score_max: 0.10\n",
      "Episode 300\tAverage Score: 0.00\t score_max: 0.10\n",
      "Episode 320\tAverage Score: 0.01\t score_max: 0.10\n",
      "Episode 340\tAverage Score: 0.01\t score_max: 0.10\n",
      "Episode 360\tAverage Score: 0.01\t score_max: 0.10\n",
      "Episode 380\tAverage Score: 0.02\t score_max: 0.10\n",
      "Episode 400\tAverage Score: 0.02\t score_max: 0.20\n",
      "Episode 420\tAverage Score: 0.03\t score_max: 0.20\n",
      "Episode 440\tAverage Score: 0.04\t score_max: 0.40\n",
      "Episode 460\tAverage Score: 0.06\t score_max: 0.40\n",
      "Episode 480\tAverage Score: 0.06\t score_max: 0.40\n",
      "Episode 500\tAverage Score: 0.08\t score_max: 0.40\n",
      "Episode 520\tAverage Score: 0.09\t score_max: 0.60\n",
      "Episode 540\tAverage Score: 0.10\t score_max: 0.60\n",
      "Episode 560\tAverage Score: 0.09\t score_max: 0.60\n",
      "Episode 580\tAverage Score: 0.11\t score_max: 0.60\n",
      "Episode 600\tAverage Score: 0.11\t score_max: 0.60\n",
      "Episode 620\tAverage Score: 0.13\t score_max: 0.60\n",
      "Episode 640\tAverage Score: 0.13\t score_max: 0.60\n",
      "Episode 660\tAverage Score: 0.15\t score_max: 0.60\n",
      "Episode 680\tAverage Score: 0.18\t score_max: 0.70\n",
      "Episode 700\tAverage Score: 0.21\t score_max: 1.00\n",
      "Episode 720\tAverage Score: 0.21\t score_max: 1.00\n",
      "Episode 740\tAverage Score: 0.23\t score_max: 1.30\n",
      "Episode 760\tAverage Score: 0.25\t score_max: 1.30\n",
      "Episode 780\tAverage Score: 0.26\t score_max: 1.30\n",
      "Episode 800\tAverage Score: 0.27\t score_max: 1.30\n",
      "Episode 820\tAverage Score: 0.36\t score_max: 2.40\n",
      "Episode 840\tAverage Score: 0.46\t score_max: 2.40\n",
      "Episode 860\tAverage Score: 0.67\t score_max: 4.40\n",
      "Episode 880\tAverage Score: 0.81\t score_max: 4.40\n",
      "Episode 898\tAverage Score: 1.01\t score_max: 4.70"
     ]
    },
    {
     "data": {
      "image/png": "[encoded data removed]",
      "text/plain": [
       "<matplotlib.figure.Figure at 0x7fbebd624668>"
      ]
     },
     "metadata": {
      "needs_background": "light"
     },
     "output_type": "display_data"
    }
   ],
   "source": [
    "config = {\"buffer_size\": 1000000,  # replay buffer size\n",
    "          \"batch_size\" : 128,        # minibatch size\n",
    "          \"gamma\" : 0.99,            # discount factor\n",
    "          \"tau\" : 1e-3,              # for soft update of target parameters\n",
    "          \"lr_actor\" : 4e-4,         # learning rate of the actor \n",
    "          \"lr_critic\": 4e-4,         # learning rate of the critic\n",
    "          \"update\": 4,               # Update times of critic/actor in each trajectory\n",
    "          \"scale\" : 5,               # initial scale of noise\n",
    "          \"scale_decay\": 1e-4,       # scale decay\n",
    "          \"scale_end\": 0\n",
    "             }\n",
    "n_games = 1000  # number of episodes\n",
    "\n",
    "scores, eps_history = [], []\n",
    "\n",
    "state_size = 48\n",
    "action_size= 4\n",
    "\n",
    "agent = Agent(state_size, action_size, config, random_seed=23142)\n",
    "best_scores = 0\n",
    "scores_deque = deque(maxlen= 100)\n",
    "\n",
    "for i in range(1, n_games+1):\n",
    "    env_info = env.reset(train_mode=True)[brain_name]    # reset the environment\n",
    "    state = env_info.vector_observations\n",
    "    state = np.reshape(state, (48,))\n",
    "    score = 0\n",
    "    done = False\n",
    "    \n",
    "    #reset noise\n",
    "    agent.reset()\n",
    "    \n",
    "    while not done:\n",
    "        action = agent.choose_action(state)\n",
    "\n",
    "        # Reshape action to the right shape used in env\n",
    "        action = np.reshape(action, (2,2))\n",
    "\n",
    "        env_info = env.step(action)[brain_name]        # send the action to the environment\n",
    "        next_state = env_info.vector_observations   # get the next state\n",
    "        reward = env_info.rewards                   # get the reward\n",
    "        done = env_info.local_done[0]\n",
    "\n",
    "        # Reshape next_state and action to the right shape used in agent\n",
    "        next_state = np.reshape(next_state, (48,))\n",
    "        action = np.reshape(action, (4,))\n",
    "\n",
    "        agent.step(state, action, reward, next_state, done)\n",
    "        state = next_state\n",
    "        score += np.max(reward)\n",
    "        \n",
    "        if done:\n",
    "            break\n",
    "\n",
    "    scores.append(score)              # save most recent score\n",
    "    scores_deque.append(score)   \n",
    "    avg_score = np.mean(scores_deque)\n",
    "    max_score = np.max(scores_deque)\n",
    "    min_score = np.min(scores_deque)\n",
    "    print('\\rEpisode {}\\tAverage Score: {:.2f}\\t score_max: {:.2f}'.format(i, avg_score, max_score), end=\"\")\n",
    "    \n",
    "    if avg_score > best_scores:\n",
    "        best_scores = avg_score\n",
    "        # Save model\n",
    "        torch.save(agent.actor_local.state_dict(), 'checkpoint_actor.pth')\n",
    "        torch.save(agent.critic_local_1.state_dict(), 'checkpoint_critic_1.pth')\n",
    "        torch.save(agent.critic_local_2.state_dict(), 'checkpoint_critic_2.pth')\n",
    "\n",
    "    if i % 20 == 0:\n",
    "        print('\\rEpisode {}\\tAverage Score: {:.2f}'.format(i, avg_score))\n",
    "\n",
    "    if avg_score >= 1.0:\n",
    "        break\n",
    "        \n",
    "        \n",
    "x = [i+1 for i in range(len(scores))]\n",
    "plot_learning_curve(x, scores, figure_file = \"fig.png\") "
   ]
  },
  {
   "cell_type": "code",
   "execution_count": null,
   "metadata": {},
   "outputs": [],
   "source": []
  }
 ],
 "metadata": {
  "kernelspec": {
   "display_name": "Python 3",
   "language": "python",
   "name": "python3"
  },
  "language_info": {
   "codemirror_mode": {
    "name": "ipython",
    "version": 3
   },
   "file_extension": ".py",
   "mimetype": "text/x-python",
   "name": "python",
   "nbconvert_exporter": "python",
   "pygments_lexer": "ipython3",
   "version": "3.6.3"
  }
 },
 "nbformat": 4,
 "nbformat_minor": 2
}
